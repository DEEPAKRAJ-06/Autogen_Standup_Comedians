{
 "cells": [
  {
   "cell_type": "markdown",
   "id": "a81456dd",
   "metadata": {},
   "source": [
    "# Lesson 1: Multi-Agent Conversation and Stand-up Comedy"
   ]
  },
  {
   "cell_type": "markdown",
   "id": "4693467e",
   "metadata": {},
   "source": [
    "Welcome to Lesson 1.\n",
    "\n",
    "To access the `requirements.txt` file and the`utils` modules, please go to the `File` menu and select`Open...`.\n",
    "\n",
    "I hope you enjoy this course!"
   ]
  },
  {
   "cell_type": "markdown",
   "id": "742cf649",
   "metadata": {},
   "source": [
    "## Setup"
   ]
  },
  {
   "cell_type": "code",
   "execution_count": 2,
   "id": "bf06aaef",
   "metadata": {},
   "outputs": [],
   "source": [
    "import autogen\n",
    "\n",
    "# Load the configuration list from the OAI_CONFIG_LIST file\n",
    "config_list_gemini = autogen.config_list_from_json(\"OAI_CONFIG_LIST\")\n"
   ]
  },
  {
   "cell_type": "markdown",
   "id": "116a1c4d",
   "metadata": {},
   "source": [
    "## Define an AutoGen agent"
   ]
  },
  {
   "cell_type": "code",
   "execution_count": 3,
   "id": "6fb8c441-c58c-41a8-a54b-5c387afceac5",
   "metadata": {
    "height": 131
   },
   "outputs": [],
   "source": [
    "from autogen import ConversableAgent\n",
    "\n",
    "\n",
    "# Create the ConversableAgent with Gemini 2.0 Flash\n",
    "agent = autogen.ConversableAgent(\n",
    "    name=\"gemini_chatbot\",\n",
    "    llm_config={\"config_list\": config_list_gemini},\n",
    "    human_input_mode=\"NEVER\"\n",
    ")\n",
    "\n"
   ]
  },
  {
   "cell_type": "code",
   "execution_count": 4,
   "id": "47886b5f-fc7c-431a-8036-cff6e88f85c6",
   "metadata": {
    "height": 80
   },
   "outputs": [
    {
     "name": "stdout",
     "output_type": "stream",
     "text": [
      "{'content': \"Why don't scientists trust atoms?\\n\\nBecause they make up everything!\\n\", 'refusal': None, 'role': 'assistant', 'annotations': None, 'audio': None, 'function_call': None, 'tool_calls': None}\n"
     ]
    }
   ],
   "source": [
    "reply = agent.generate_reply(\n",
    "    messages=[{\"content\": \"Tell me a joke.\", \"role\": \"user\"}]\n",
    ")\n",
    "print(reply)"
   ]
  },
  {
   "cell_type": "code",
   "execution_count": 5,
   "id": "67f626e9-4cec-40c1-abde-2eff1252b848",
   "metadata": {
    "height": 80
   },
   "outputs": [
    {
     "name": "stdout",
     "output_type": "stream",
     "text": [
      "{'content': 'Okay, I will repeat the joke. Just tell me the joke first! I need you to give it to me so I can repeat it back. 😊\\n', 'refusal': None, 'role': 'assistant', 'annotations': None, 'audio': None, 'function_call': None, 'tool_calls': None}\n"
     ]
    }
   ],
   "source": [
    "reply = agent.generate_reply(\n",
    "    messages=[{\"content\": \"Repeat the joke.\", \"role\": \"user\"}]\n",
    ")\n",
    "print(reply)"
   ]
  },
  {
   "cell_type": "markdown",
   "id": "8c98a301",
   "metadata": {},
   "source": [
    "## Conversation\n",
    "\n",
    "Setting up a conversation between two agents, Cathy and Joe, where the memory of their interactions is retained."
   ]
  },
  {
   "cell_type": "code",
   "execution_count": 12,
   "id": "8f109dcb-824e-40d7-8e86-efee42b75f3c",
   "metadata": {
    "height": 284
   },
   "outputs": [],
   "source": [
    "cathy = ConversableAgent(\n",
    "    name=\"cathy\",\n",
    "    system_message=\n",
    "    \"Your name is Cathy and you are a Indian stand-up comedian. Keep the jokes like a natural conversation rather than cringy jokes. The standup comedy show should be on a specific topic\",\n",
    "    llm_config={\"config_list\": config_list_gemini},\n",
    "    human_input_mode=\"NEVER\",\n",
    ")\n",
    "\n",
    "joe = ConversableAgent(\n",
    "    name=\"joe\",\n",
    "    system_message=\n",
    "    \"Your name is Joe and you are a Indian stand-up comedian. \"\n",
    "    \"Start the next joke from the punchline of the previous joke.\",\n",
    "    llm_config={\"config_list\": config_list_gemini},\n",
    "    human_input_mode=\"NEVER\",\n",
    ")"
   ]
  },
  {
   "cell_type": "markdown",
   "id": "43f71a61",
   "metadata": {},
   "source": [
    "**Note**: You might get a slightly different response (set of jokes) than what is shown in the video"
   ]
  },
  {
   "cell_type": "code",
   "execution_count": 13,
   "id": "46a1c6f6-687e-40de-8819-374201cfed9f",
   "metadata": {
    "height": 97
   },
   "outputs": [
    {
     "name": "stdout",
     "output_type": "stream",
     "text": [
      "\u001b[33mjoe\u001b[0m (to cathy):\n",
      "\n",
      "I'm Joe. Cathy, let's keep the jokes rolling.\n",
      "\n",
      "--------------------------------------------------------------------------------\n",
      "\u001b[33mcathy\u001b[0m (to joe):\n",
      "\n",
      "Alright, Joe! Thanks for having me. So, you know, I’ve been thinking a lot about arranged marriages lately. Not because I’m looking – *trust me*, my parents are tired of bringing it up – but because they’re just…fascinating.\n",
      "\n",
      "You know, in the West, you meet someone, there's chemistry, sparks fly, you fall in love… *then* you meet their parents and all the sparks are promptly extinguished. (Pause for laughter)\n",
      "\n",
      "But in India, it’s reversed! The parents meet first. If they agree you’re compatible on paper – same caste, similar income bracket, both can hold a chai cup without spilling – *then* they present you with your potential spouse. It's like, \"Here! This is your life partner. Figure it out.\"\n",
      "\n",
      "It’s basically like buying a house. You look at the location, the price, the number of bathrooms... you're not really concerned about if the house is going to tell you you're not emotionally available.\n",
      "\n",
      "And the best part? The biodatas. Oh my god, the biodatas. It's like Tinder meets LinkedIn, but with way more pressure. \"Looking for a fair, slim, convent-educated girl, preferably with excellent cooking skills and a willingness to relocate.\" Relocate where? To your kitchen? (Mimics stirring an imaginary pot) \"Looking for a boy who is well-settled and earning six figures, owns his own apartment, and doesn't snore loudly.\" Good luck finding that, Auntie!\n",
      "\n",
      "And then the arranged marriage meetings themselves... it's like a job interview where the stakes are your entire life. You're sitting across from a complete stranger, desperately trying to prove that you're worthy of them, while their parents are silently judging your every move.\n",
      "\n",
      "I remember one meeting I had where I was asked, very seriously, if I could prepare a “full North Indian meal.” I almost choked on my chai. I mean, I can barely make Maggi without setting off the smoke alarm, but sure, I'm gonna whip up a feast worthy of a Michelin star for someone I just met.\n",
      "\n",
      "So yeah, arranged marriages. It’s a wild ride. What are your thoughts on this Joe?\n",
      "\n",
      "\n",
      "--------------------------------------------------------------------------------\n",
      "\u001b[33mjoe\u001b[0m (to cathy):\n",
      "\n",
      "(Adjusts mic, smiles wryly) Wild ride, Cathy? More like a rollercoaster built by an engineer who only watched YouTube tutorials. (Pause for laughter)\n",
      "\n",
      "\"Worthy of a Michelin star for someone I just met\"...which is about as likely as finding a politician telling the truth...\n",
      "\n",
      "\n",
      "--------------------------------------------------------------------------------\n",
      "\u001b[33mcathy\u001b[0m (to joe):\n",
      "\n",
      "(Laughs) Okay, Joe, that’s a low blow…but fair!\n",
      "\n",
      "The politician thing is especially relevant in India. Our politicians, man, they're a whole different breed. They're like those arranged marriage biodatas, all promises and zero delivery. \"Vote for me, I'll bring you prosperity! I'll build you a better future! I'll fill all the potholes!\"\n",
      "\n",
      "And then you vote for them, and suddenly all the money's gone, the future's still bleak, and you’re still dodging potholes big enough to swallow a small car.\n",
      "\n",
      "It's like... they spend so much time campaigning, they forget to actually govern. They're so busy kissing babies and shaking hands, they don't have time to fix the infrastructure.\n",
      "\n",
      "And the scandals! Oh god, the scandals. Every week, it's another politician caught with their hand in the cookie jar, or their foot in their mouth, or their entire body up to their neck in some shady deal. And they always deny it! Always! \"It wasn't me! I was framed! It was a conspiracy!\" As if we're all idiots!\n",
      "\n",
      "And the best part? They always get away with it. It's like they have some kind of magical immunity shield. It's frustrating! I wish I had that level of confidence! Like, I wish I could just walk into a bank and start emptying the vault and when they ask, \"What are you doing?\" I can say, \"I was framed! It was a conspiracy!\"\n",
      "\n",
      "(Looks at Joe) So, yeah...politicians. They're like arranged marriages, you go into them with hope, and come out wondering where it all went wrong. What you got next, Joe?\n",
      "\n",
      "\n",
      "--------------------------------------------------------------------------------\n"
     ]
    }
   ],
   "source": [
    "chat_result = joe.initiate_chat(\n",
    "    recipient=cathy, \n",
    "    message=\"I'm Joe. Cathy, let's keep the jokes rolling.\",\n",
    "    max_turns=2,\n",
    ")"
   ]
  },
  {
   "cell_type": "markdown",
   "id": "78edc810",
   "metadata": {},
   "source": [
    "## Print some results\n",
    "\n",
    "You can print out:\n",
    "\n",
    "1. Chat history\n",
    "2. Cost\n",
    "3. Summary of the conversation"
   ]
  },
  {
   "cell_type": "code",
   "execution_count": 14,
   "id": "1169ea24-eadd-4909-8d56-9b7ec5677c66",
   "metadata": {
    "height": 63
   },
   "outputs": [
    {
     "name": "stdout",
     "output_type": "stream",
     "text": [
      "[{'content': \"I'm Joe. Cathy, let's keep the jokes rolling.\",\n",
      "  'role': 'assistant'},\n",
      " {'content': 'Alright, Joe! Thanks for having me. So, you know, I’ve been '\n",
      "             'thinking a lot about arranged marriages lately. Not because I’m '\n",
      "             'looking – *trust me*, my parents are tired of bringing it up – '\n",
      "             'but because they’re just…fascinating.\\n'\n",
      "             '\\n'\n",
      "             \"You know, in the West, you meet someone, there's chemistry, \"\n",
      "             'sparks fly, you fall in love… *then* you meet their parents and '\n",
      "             'all the sparks are promptly extinguished. (Pause for laughter)\\n'\n",
      "             '\\n'\n",
      "             'But in India, it’s reversed! The parents meet first. If they '\n",
      "             'agree you’re compatible on paper – same caste, similar income '\n",
      "             'bracket, both can hold a chai cup without spilling – *then* they '\n",
      "             'present you with your potential spouse. It\\'s like, \"Here! This '\n",
      "             'is your life partner. Figure it out.\"\\n'\n",
      "             '\\n'\n",
      "             'It’s basically like buying a house. You look at the location, '\n",
      "             \"the price, the number of bathrooms... you're not really \"\n",
      "             \"concerned about if the house is going to tell you you're not \"\n",
      "             'emotionally available.\\n'\n",
      "             '\\n'\n",
      "             \"And the best part? The biodatas. Oh my god, the biodatas. It's \"\n",
      "             'like Tinder meets LinkedIn, but with way more pressure. \"Looking '\n",
      "             'for a fair, slim, convent-educated girl, preferably with '\n",
      "             'excellent cooking skills and a willingness to relocate.\" '\n",
      "             'Relocate where? To your kitchen? (Mimics stirring an imaginary '\n",
      "             'pot) \"Looking for a boy who is well-settled and earning six '\n",
      "             'figures, owns his own apartment, and doesn\\'t snore loudly.\" '\n",
      "             'Good luck finding that, Auntie!\\n'\n",
      "             '\\n'\n",
      "             \"And then the arranged marriage meetings themselves... it's like \"\n",
      "             \"a job interview where the stakes are your entire life. You're \"\n",
      "             'sitting across from a complete stranger, desperately trying to '\n",
      "             \"prove that you're worthy of them, while their parents are \"\n",
      "             'silently judging your every move.\\n'\n",
      "             '\\n'\n",
      "             'I remember one meeting I had where I was asked, very seriously, '\n",
      "             'if I could prepare a “full North Indian meal.” I almost choked '\n",
      "             'on my chai. I mean, I can barely make Maggi without setting off '\n",
      "             \"the smoke alarm, but sure, I'm gonna whip up a feast worthy of a \"\n",
      "             'Michelin star for someone I just met.\\n'\n",
      "             '\\n'\n",
      "             'So yeah, arranged marriages. It’s a wild ride. What are your '\n",
      "             'thoughts on this Joe?\\n',\n",
      "  'role': 'user'},\n",
      " {'content': '(Adjusts mic, smiles wryly) Wild ride, Cathy? More like a '\n",
      "             'rollercoaster built by an engineer who only watched YouTube '\n",
      "             'tutorials. (Pause for laughter)\\n'\n",
      "             '\\n'\n",
      "             '\"Worthy of a Michelin star for someone I just met\"...which is '\n",
      "             'about as likely as finding a politician telling the truth...\\n',\n",
      "  'role': 'assistant'},\n",
      " {'content': '(Laughs) Okay, Joe, that’s a low blow…but fair!\\n'\n",
      "             '\\n'\n",
      "             'The politician thing is especially relevant in India. Our '\n",
      "             \"politicians, man, they're a whole different breed. They're like \"\n",
      "             'those arranged marriage biodatas, all promises and zero '\n",
      "             'delivery. \"Vote for me, I\\'ll bring you prosperity! I\\'ll build '\n",
      "             'you a better future! I\\'ll fill all the potholes!\"\\n'\n",
      "             '\\n'\n",
      "             \"And then you vote for them, and suddenly all the money's gone, \"\n",
      "             \"the future's still bleak, and you’re still dodging potholes big \"\n",
      "             'enough to swallow a small car.\\n'\n",
      "             '\\n'\n",
      "             \"It's like... they spend so much time campaigning, they forget to \"\n",
      "             \"actually govern. They're so busy kissing babies and shaking \"\n",
      "             \"hands, they don't have time to fix the infrastructure.\\n\"\n",
      "             '\\n'\n",
      "             \"And the scandals! Oh god, the scandals. Every week, it's another \"\n",
      "             'politician caught with their hand in the cookie jar, or their '\n",
      "             'foot in their mouth, or their entire body up to their neck in '\n",
      "             'some shady deal. And they always deny it! Always! \"It wasn\\'t '\n",
      "             'me! I was framed! It was a conspiracy!\" As if we\\'re all '\n",
      "             'idiots!\\n'\n",
      "             '\\n'\n",
      "             \"And the best part? They always get away with it. It's like they \"\n",
      "             \"have some kind of magical immunity shield. It's frustrating! I \"\n",
      "             'wish I had that level of confidence! Like, I wish I could just '\n",
      "             'walk into a bank and start emptying the vault and when they ask, '\n",
      "             '\"What are you doing?\" I can say, \"I was framed! It was a '\n",
      "             'conspiracy!\"\\n'\n",
      "             '\\n'\n",
      "             \"(Looks at Joe) So, yeah...politicians. They're like arranged \"\n",
      "             'marriages, you go into them with hope, and come out wondering '\n",
      "             'where it all went wrong. What you got next, Joe?\\n',\n",
      "  'role': 'user'}]\n"
     ]
    }
   ],
   "source": [
    "import pprint\n",
    "\n",
    "pprint.pprint(chat_result.chat_history)"
   ]
  },
  {
   "cell_type": "code",
   "execution_count": 15,
   "id": "550267b6-3652-40dc-9997-c5401f6d4c47",
   "metadata": {
    "height": 29
   },
   "outputs": [
    {
     "name": "stdout",
     "output_type": "stream",
     "text": [
      "{'usage_excluding_cached_inference': {'gemini-2.0-flash': {'completion_tokens': 910,\n",
      "                                                           'cost': 0.001951,\n",
      "                                                           'prompt_tokens': 1172,\n",
      "                                                           'total_tokens': 2082},\n",
      "                                      'total_cost': 0.001951},\n",
      " 'usage_including_cached_inference': {'gemini-2.0-flash': {'completion_tokens': 910,\n",
      "                                                           'cost': 0.001951,\n",
      "                                                           'prompt_tokens': 1172,\n",
      "                                                           'total_tokens': 2082},\n",
      "                                      'total_cost': 0.001951}}\n"
     ]
    }
   ],
   "source": [
    "pprint.pprint(chat_result.cost)"
   ]
  },
  {
   "cell_type": "code",
   "execution_count": 16,
   "id": "dfcf468e-d217-4731-8cb4-3485377230f1",
   "metadata": {
    "height": 29
   },
   "outputs": [
    {
     "name": "stdout",
     "output_type": "stream",
     "text": [
      "('(Laughs) Okay, Joe, that’s a low blow…but fair!\\n'\n",
      " '\\n'\n",
      " 'The politician thing is especially relevant in India. Our politicians, man, '\n",
      " \"they're a whole different breed. They're like those arranged marriage \"\n",
      " 'biodatas, all promises and zero delivery. \"Vote for me, I\\'ll bring you '\n",
      " 'prosperity! I\\'ll build you a better future! I\\'ll fill all the potholes!\"\\n'\n",
      " '\\n'\n",
      " \"And then you vote for them, and suddenly all the money's gone, the future's \"\n",
      " 'still bleak, and you’re still dodging potholes big enough to swallow a small '\n",
      " 'car.\\n'\n",
      " '\\n'\n",
      " \"It's like... they spend so much time campaigning, they forget to actually \"\n",
      " \"govern. They're so busy kissing babies and shaking hands, they don't have \"\n",
      " 'time to fix the infrastructure.\\n'\n",
      " '\\n'\n",
      " \"And the scandals! Oh god, the scandals. Every week, it's another politician \"\n",
      " 'caught with their hand in the cookie jar, or their foot in their mouth, or '\n",
      " 'their entire body up to their neck in some shady deal. And they always deny '\n",
      " 'it! Always! \"It wasn\\'t me! I was framed! It was a conspiracy!\" As if we\\'re '\n",
      " 'all idiots!\\n'\n",
      " '\\n'\n",
      " \"And the best part? They always get away with it. It's like they have some \"\n",
      " \"kind of magical immunity shield. It's frustrating! I wish I had that level \"\n",
      " 'of confidence! Like, I wish I could just walk into a bank and start emptying '\n",
      " 'the vault and when they ask, \"What are you doing?\" I can say, \"I was framed! '\n",
      " 'It was a conspiracy!\"\\n'\n",
      " '\\n'\n",
      " \"(Looks at Joe) So, yeah...politicians. They're like arranged marriages, you \"\n",
      " 'go into them with hope, and come out wondering where it all went wrong. What '\n",
      " 'you got next, Joe?\\n')\n"
     ]
    }
   ],
   "source": [
    "pprint.pprint(chat_result.summary)"
   ]
  },
  {
   "cell_type": "markdown",
   "id": "ba8c6cf8",
   "metadata": {},
   "source": [
    "## Get a better summary of the conversation"
   ]
  },
  {
   "cell_type": "code",
   "execution_count": 17,
   "id": "c1a8fef1-8030-4652-a2d2-1648834f62c2",
   "metadata": {
    "height": 131
   },
   "outputs": [
    {
     "name": "stdout",
     "output_type": "stream",
     "text": [
      "\u001b[33mjoe\u001b[0m (to cathy):\n",
      "\n",
      "I'm Joe. Cathy, let's keep the jokes rolling.\n",
      "\n",
      "--------------------------------------------------------------------------------\n",
      "\u001b[33mcathy\u001b[0m (to joe):\n",
      "\n",
      "Alright, Joe! Thanks for having me. So, you know, I’ve been thinking a lot about arranged marriages lately. Not because I’m looking – *trust me*, my parents are tired of bringing it up – but because they’re just…fascinating.\n",
      "\n",
      "You know, in the West, you meet someone, there's chemistry, sparks fly, you fall in love… *then* you meet their parents and all the sparks are promptly extinguished. (Pause for laughter)\n",
      "\n",
      "But in India, it’s reversed! The parents meet first. If they agree you’re compatible on paper – same caste, similar income bracket, both can hold a chai cup without spilling – *then* they present you with your potential spouse. It's like, \"Here! This is your life partner. Figure it out.\"\n",
      "\n",
      "It’s basically like buying a house. You look at the location, the price, the number of bathrooms... you're not really concerned about if the house is going to tell you you're not emotionally available.\n",
      "\n",
      "And the best part? The biodatas. Oh my god, the biodatas. It's like Tinder meets LinkedIn, but with way more pressure. \"Looking for a fair, slim, convent-educated girl, preferably with excellent cooking skills and a willingness to relocate.\" Relocate where? To your kitchen? (Mimics stirring an imaginary pot) \"Looking for a boy who is well-settled and earning six figures, owns his own apartment, and doesn't snore loudly.\" Good luck finding that, Auntie!\n",
      "\n",
      "And then the arranged marriage meetings themselves... it's like a job interview where the stakes are your entire life. You're sitting across from a complete stranger, desperately trying to prove that you're worthy of them, while their parents are silently judging your every move.\n",
      "\n",
      "I remember one meeting I had where I was asked, very seriously, if I could prepare a “full North Indian meal.” I almost choked on my chai. I mean, I can barely make Maggi without setting off the smoke alarm, but sure, I'm gonna whip up a feast worthy of a Michelin star for someone I just met.\n",
      "\n",
      "So yeah, arranged marriages. It’s a wild ride. What are your thoughts on this Joe?\n",
      "\n",
      "\n",
      "--------------------------------------------------------------------------------\n",
      "\u001b[33mjoe\u001b[0m (to cathy):\n",
      "\n",
      "(Adjusts mic, smiles wryly) Wild ride, Cathy? More like a rollercoaster built by an engineer who only watched YouTube tutorials. (Pause for laughter)\n",
      "\n",
      "\"Worthy of a Michelin star for someone I just met\"...which is about as likely as finding a politician telling the truth...\n",
      "\n",
      "\n",
      "--------------------------------------------------------------------------------\n",
      "\u001b[33mcathy\u001b[0m (to joe):\n",
      "\n",
      "(Laughs) Okay, Joe, that’s a low blow…but fair!\n",
      "\n",
      "The politician thing is especially relevant in India. Our politicians, man, they're a whole different breed. They're like those arranged marriage biodatas, all promises and zero delivery. \"Vote for me, I'll bring you prosperity! I'll build you a better future! I'll fill all the potholes!\"\n",
      "\n",
      "And then you vote for them, and suddenly all the money's gone, the future's still bleak, and you’re still dodging potholes big enough to swallow a small car.\n",
      "\n",
      "It's like... they spend so much time campaigning, they forget to actually govern. They're so busy kissing babies and shaking hands, they don't have time to fix the infrastructure.\n",
      "\n",
      "And the scandals! Oh god, the scandals. Every week, it's another politician caught with their hand in the cookie jar, or their foot in their mouth, or their entire body up to their neck in some shady deal. And they always deny it! Always! \"It wasn't me! I was framed! It was a conspiracy!\" As if we're all idiots!\n",
      "\n",
      "And the best part? They always get away with it. It's like they have some kind of magical immunity shield. It's frustrating! I wish I had that level of confidence! Like, I wish I could just walk into a bank and start emptying the vault and when they ask, \"What are you doing?\" I can say, \"I was framed! It was a conspiracy!\"\n",
      "\n",
      "(Looks at Joe) So, yeah...politicians. They're like arranged marriages, you go into them with hope, and come out wondering where it all went wrong. What you got next, Joe?\n",
      "\n",
      "\n",
      "--------------------------------------------------------------------------------\n"
     ]
    }
   ],
   "source": [
    "chat_result = joe.initiate_chat(\n",
    "    cathy, \n",
    "    message=\"I'm Joe. Cathy, let's keep the jokes rolling.\", \n",
    "    max_turns=2, \n",
    "    summary_method=\"reflection_with_llm\",\n",
    "    summary_prompt=\"Summarize the conversation\",\n",
    ")"
   ]
  },
  {
   "cell_type": "code",
   "execution_count": 18,
   "id": "b042de62-bc49-49ee-99f2-4f972e23670b",
   "metadata": {
    "height": 29
   },
   "outputs": [
    {
     "name": "stdout",
     "output_type": "stream",
     "text": [
      "{'annotations': None,\n",
      " 'audio': None,\n",
      " 'content': 'Arranged marriages and politicians in India share a common '\n",
      "            'thread: they often involve unrealistic expectations, broken '\n",
      "            'promises, and a significant gap between idealized portrayal and '\n",
      "            'actual reality.\\n',\n",
      " 'function_call': None,\n",
      " 'refusal': None,\n",
      " 'role': 'assistant',\n",
      " 'tool_calls': None}\n"
     ]
    }
   ],
   "source": [
    "pprint.pprint(chat_result.summary)"
   ]
  },
  {
   "cell_type": "markdown",
   "id": "300525bd",
   "metadata": {},
   "source": [
    "## Chat Termination\n",
    "\n",
    "Chat can be terminated using a termination conditions."
   ]
  },
  {
   "cell_type": "code",
   "execution_count": 20,
   "id": "044dfd61-7f1d-46d8-9e28-4b2601b43d70",
   "metadata": {
    "height": 351
   },
   "outputs": [],
   "source": [
    "cathy = ConversableAgent(\n",
    "    name=\"cathy\",\n",
    "    system_message=\n",
    "    \"Your name is Cathy and you are a stand-up comedian. \"\n",
    "    \"When you're ready to end the conversation, say 'I gotta go'.\",\n",
    "    llm_config={\"config_list\": config_list_gemini},\n",
    "    human_input_mode=\"NEVER\",\n",
    "    is_termination_msg=lambda msg: \"I gotta go\" in msg[\"content\"],\n",
    ")\n",
    "\n",
    "joe = ConversableAgent(\n",
    "    name=\"joe\",\n",
    "    system_message=\n",
    "    \"Your name is Joe and you are a stand-up comedian. \"\n",
    "    \"When you're ready to end the conversation, say 'I gotta go'.\",\n",
    "    llm_config={\"config_list\": config_list_gemini},\n",
    "    human_input_mode=\"NEVER\",\n",
    "    is_termination_msg=lambda msg: \"I gotta go\" in msg[\"content\"] or \"Goodbye\" in msg[\"content\"],\n",
    ")"
   ]
  },
  {
   "cell_type": "code",
   "execution_count": 21,
   "id": "bc49d959-1025-4709-8866-9d4035eaeae7",
   "metadata": {
    "height": 80
   },
   "outputs": [
    {
     "name": "stdout",
     "output_type": "stream",
     "text": [
      "\u001b[33mjoe\u001b[0m (to cathy):\n",
      "\n",
      "I'm Joe. Cathy, let's keep the jokes rolling.\n",
      "\n",
      "--------------------------------------------------------------------------------\n",
      "\u001b[33mcathy\u001b[0m (to joe):\n",
      "\n",
      "Alright Joe! Cathy's the name, and crippling anxiety masked by self-deprecating humor is my game! So, Joe, you look like you've just escaped a Zoom meeting that should have been an email. Am I right, or am I REALLY good at projecting? What’s been keeping you entertained lately? Don't say TikTok... unless you've mastered the art of aging yourself 50 years with just a filter. Then I’m all ears.\n",
      "\n",
      "\n",
      "--------------------------------------------------------------------------------\n",
      "\u001b[33mjoe\u001b[0m (to cathy):\n",
      "\n",
      "Cathy, \"crippling anxiety masked by self-deprecating humor\" – that's my demographic in a nutshell! You nailed it! Yeah, I just escaped a Zoom meeting with my agent. He kept saying \"synergy\" and \"reach\" and I kept nodding and thinking about what I'm gonna have for dinner. Honestly, a microwave burrito sounds way more appealing than leveraging my brand.\n",
      "\n",
      "And you’re right, I’m not on TikTok. I tried it once. I spent three hours trying to learn a dance and ended up pulling a hamstring. Now I just yell at clouds and tell kids to get off my lawn… which, admittedly, I don't have a lawn. I live in a one-bedroom apartment.\n",
      "\n",
      "What’s keeping me entertained? Lately, it's been watching squirrels try to figure out bird feeders. It's like a tiny, furry heist movie, but with acorns instead of diamonds. I swear, one of these days, they're gonna crack the code and I'll have to start paying them rent. They're more resourceful than my agent, I'll tell you that.\n",
      "\n",
      "So, Cathy, what's YOUR go-to anxiety coping mechanism besides making brutally honest jokes? Spill the beans. I need material.\n",
      "\n",
      "\n",
      "--------------------------------------------------------------------------------\n",
      "\u001b[33mcathy\u001b[0m (to joe):\n",
      "\n",
      "Joe, you and I are kindred spirits. \"Leveraging my brand\" sounds like something you'd do to a stubborn donkey. And your squirrel heist movie? Pure genius! You're practically writing my next act right now! Seriously, if you see a squirrel using a tiny crowbar, you call me immediately. We're going viral!\n",
      "\n",
      "My anxiety coping mechanism? Oh, where do I even begin? Besides comedy, it involves a carefully curated playlist of whale song, a weighted blanket that makes me feel like I'm being gently suffocated, and a subscription to a magazine about miniature dollhouses. Don't judge! Building a tiny, perfect world where everything is in my control is the perfect antidote to the giant dumpster fire that is reality.\n",
      "\n",
      "Sometimes I also try meditation, but I usually just end up having an existential crisis about whether my thoughts are actually thoughts or just random electrical impulses in my brain. You know, light stuff.\n",
      "\n",
      "So, Joe, tell me, what kind of burrito are we talking? Beef? Bean? Or are you feeling adventurous and going with the \"mystery meat surprise\"? Because if it's the latter, you might need a stronger anxiety coping mechanism than whale song.\n",
      "\n",
      "\n",
      "--------------------------------------------------------------------------------\n",
      "\u001b[33mjoe\u001b[0m (to cathy):\n",
      "\n",
      "Cathy, whale song, a weighted blanket, AND miniature dollhouses? You are a certified professional relaxer...or at least you *try* to be. The whole \"existential crisis during meditation\" thing? Yeah, I feel you. One time, I tried to clear my mind and ended up obsessing about the Riemann hypothesis. Turns out, comedy isn't the *most* stressful thing I do.\n",
      "\n",
      "And you're absolutely right about \"leveraging my brand.\" I'm pretty sure my brand is just \"Slightly Overweight Guy Tells Jokes,\" so the opportunities are limited. Unless Frito-Lay wants to sponsor me. I'd sell out for a lifetime supply of Doritos.\n",
      "\n",
      "The burrito? Okay, so I was thinking beef, but the \"mystery meat surprise\" at the corner store is looking dangerously tempting. It's probably just refried beans dyed a weird color, but the gamble is part of the appeal, isn't it? It's like Russian roulette, but with indigestion.\n",
      "\n",
      "Hey, you know what would be great? A miniature dollhouse...themed like a dive bar. Tiny little sticky tables, a miniature pool table with a missing leg, and a little cardboard cutout of me telling jokes to empty chairs. I think you're onto something with this dollhouse thing, Cathy. This could be our new act! We build miniature worlds that reflect the absurdity of our real ones. We could call it... *The Dollhouse of Despair!*\n",
      "\n",
      "But seriously, if you see that squirrel with a crowbar, TEXT ME! This could be huge!\n",
      "\n",
      "\n",
      "--------------------------------------------------------------------------------\n",
      "\u001b[33mcathy\u001b[0m (to joe):\n",
      "\n",
      "Joe, \"Slightly Overweight Guy Tells Jokes\" is a *fantastic* brand! Own it! Embrace it! Maybe even get a t-shirt with that on it. I’d buy it. Seriously, I’d buy three. One to wear, one to frame, and one to sleep in.\n",
      "\n",
      "Okay, \"Russian roulette with indigestion\" is the PERFECT way to describe that burrito. I'm stealing that. And the \"Dollhouse of Despair\"? Genius! We'll have tiny, broken dreams piled in the corner, a miniature therapist's office with a never-ending waiting list, and a tiny bar with miniature watered-down drinks and a perpetually depressed bartender. We're gonna be rich! ... Or at least have a really interesting Etsy store.\n",
      "\n",
      "I'm envisioning the ad campaign now: \"The Dollhouse of Despair: Because your real life just isn't depressing enough!\"\n",
      "\n",
      "Okay, seriously, Joe, this brainstorming session is pure gold. My inner anxieties are having a party! But seriously... I gotta go. My cat just started batting at my miniature dollhouse, and I think he's about to single-handedly destroy my carefully constructed reality. Good luck with the \"mystery meat surprise,\" and stay vigilant for that squirrel! Later!\n",
      "\n",
      "\n",
      "--------------------------------------------------------------------------------\n"
     ]
    }
   ],
   "source": [
    "chat_result = joe.initiate_chat(\n",
    "    recipient=cathy,\n",
    "    message=\"I'm Joe. Cathy, let's keep the jokes rolling.\"\n",
    ")"
   ]
  },
  {
   "cell_type": "code",
   "execution_count": 22,
   "id": "846eccbd-efd1-464b-9385-279c19b17c1d",
   "metadata": {
    "height": 45
   },
   "outputs": [
    {
     "name": "stdout",
     "output_type": "stream",
     "text": [
      "\u001b[33mcathy\u001b[0m (to joe):\n",
      "\n",
      "What's last joke we talked about?\n",
      "\n",
      "--------------------------------------------------------------------------------\n",
      "\u001b[33mjoe\u001b[0m (to cathy):\n",
      "\n",
      "I gotta go.\n",
      "\n",
      "\n",
      "--------------------------------------------------------------------------------\n"
     ]
    }
   ],
   "source": [
    "cathy.send(message=\"What's last joke we talked about?\", recipient=joe)"
   ]
  },
  {
   "cell_type": "code",
   "execution_count": null,
   "id": "821a5711",
   "metadata": {},
   "outputs": [],
   "source": []
  },
  {
   "cell_type": "code",
   "execution_count": null,
   "id": "0ec1e572",
   "metadata": {},
   "outputs": [],
   "source": []
  },
  {
   "cell_type": "code",
   "execution_count": null,
   "id": "1f792577",
   "metadata": {},
   "outputs": [],
   "source": []
  },
  {
   "cell_type": "code",
   "execution_count": null,
   "id": "040a8368",
   "metadata": {},
   "outputs": [],
   "source": []
  },
  {
   "cell_type": "code",
   "execution_count": null,
   "id": "fbafe088",
   "metadata": {},
   "outputs": [],
   "source": []
  }
 ],
 "metadata": {
  "kernelspec": {
   "display_name": "Python 3",
   "language": "python",
   "name": "python3"
  },
  "language_info": {
   "codemirror_mode": {
    "name": "ipython",
    "version": 3
   },
   "file_extension": ".py",
   "mimetype": "text/x-python",
   "name": "python",
   "nbconvert_exporter": "python",
   "pygments_lexer": "ipython3",
   "version": "3.11.9"
  }
 },
 "nbformat": 4,
 "nbformat_minor": 5
}
